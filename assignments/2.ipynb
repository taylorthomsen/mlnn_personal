{
 "cells": [
  {
   "cell_type": "code",
   "execution_count": 8,
   "metadata": {
    "collapsed": true
   },
   "outputs": [],
   "source": [
    "import numpy as np\n",
    "import pandas as pd\n",
    "import scipy as sp\n",
    "import string"
   ]
  },
  {
   "cell_type": "code",
   "execution_count": 151,
   "metadata": {
    "collapsed": false
   },
   "outputs": [],
   "source": [
    "%matplotlib inline\n",
    "import matplotlib.pyplot as plt\n",
    "plt.style.use('ggplot')"
   ]
  },
  {
   "cell_type": "code",
   "execution_count": 10,
   "metadata": {
    "collapsed": false
   },
   "outputs": [
    {
     "name": "stdout",
     "output_type": "stream",
     "text": [
      "Writing hw_data.csv\n"
     ]
    }
   ],
   "source": [
    "%%file hw_data.csv\n",
    "id,sex,weight,height\n",
    "1,M,190,77\n",
    "2,F,120,70\n",
    "3,F,110,68\n",
    "4,M,150,72\n",
    "5,O,120,66\n",
    "6,M,120,60\n",
    "7,F,140,70"
   ]
  },
  {
   "cell_type": "markdown",
   "metadata": {},
   "source": [
    "# Python"
   ]
  },
  {
   "cell_type": "markdown",
   "metadata": {},
   "source": [
    "## 1. Finish creating the following function that takes a list and returns the average value."
   ]
  },
  {
   "cell_type": "code",
   "execution_count": 2,
   "metadata": {
    "collapsed": false
   },
   "outputs": [
    {
     "data": {
      "text/plain": [
       "3.375"
      ]
     },
     "execution_count": 2,
     "metadata": {},
     "output_type": "execute_result"
    }
   ],
   "source": [
    "def average(my_list):\n",
    "    total = 0\n",
    "    i = 0\n",
    "    for item in my_list:\n",
    "        total = total + item\n",
    "        i += 1\n",
    "        if i == len(my_list):\n",
    "            result = total/i\n",
    "    \n",
    "    return result\n",
    "\n",
    "average([1,2,1,4,3,2,5,9])"
   ]
  },
  {
   "cell_type": "markdown",
   "metadata": {},
   "source": [
    "## 2. Using a Dictionary keep track of the count of numbers (or items) from a list"
   ]
  },
  {
   "cell_type": "code",
   "execution_count": 11,
   "metadata": {
    "collapsed": false
   },
   "outputs": [
    {
     "data": {
      "text/plain": [
       "{1: 2, 2: 2, 3: 1, 4: 1, 5: 1, 9: 1}"
      ]
     },
     "execution_count": 11,
     "metadata": {},
     "output_type": "execute_result"
    }
   ],
   "source": [
    "def counts(my_list):\n",
    "    counts = dict()\n",
    "    x = 0\n",
    "    for item in my_list:\n",
    "        x = my_list.count(item)\n",
    "        counts[item] = x\n",
    "    \n",
    "    return counts\n",
    "\n",
    "counts([1,2,1,4,3,2,5,9])    "
   ]
  },
  {
   "cell_type": "markdown",
   "metadata": {},
   "source": [
    "## 3.  Using the `counts()` function and the `.split()` function, return a dictionary of most occuring words from the following paragraph. Bonus, remove punctuation from words."
   ]
  },
  {
   "cell_type": "raw",
   "metadata": {},
   "source": []
  },
  {
   "cell_type": "code",
   "execution_count": 210,
   "metadata": {
    "collapsed": false
   },
   "outputs": [
    {
     "name": "stdout",
     "output_type": "stream",
     "text": [
      "{'little': 2, 'thought': 1, 'shall': 1, 'skimming': 1, 'heads': 1, 'with': 2, 'no': 2, 'sky': 2, 'FrogFootman': 1, 'invitation': 2, 'answer': 1, 'there': 1, 'the': 32, 'inside': 2, 'repeated': 2, '‘how': 1, 'now': 1, 'possibly': 1, 'ground': 1, 'wood—she': 1, '‘From': 1, 'curious': 1, 'between': 1, 'going': 1, 'uncivil': 1, 'any': 1, '‘and': 1, 'But': 1, 'sense': 1, 'listen': 1, '‘There': 1, 'said': 3, 'The': 2, 'they’re': 1, 'howling': 1, 'great': 2, 'solemn': 2, 'run': 1, 'certainly': 1, 'pieces': 2, 'gone': 1, 'know': 1, 'First': 1, 'judging': 1, 'when': 2, 'near': 1, 'have': 1, 'fear': 1, 'knocking’': 2, 'all': 3, 'producing': 1, 'laughed': 1, 'that': 3, 'you': 5, 'dish': 1, 'or': 2, 'knuckles': 1, 'at': 6, 'back': 1, 'this': 4, 'It': 1, 'Queen': 2, 'your': 1, 'here’': 1, 'entangled': 1, 'so': 2, 'would': 1, 'curled': 1, 'way': 1, 'grazed': 1, 'they': 1, 'he': 5, 'called': 1, 'changing': 1, 'order': 1, 'a': 15, 'within—a': 1, 'attending': 1, '‘his': 1, 'use': 1, 'herself': 1, 'get': 2, 'help': 1, 'speaking': 1, 'only': 2, 'like': 1, 'do': 1, '‘Please': 1, 'door': 6, 'She': 1, 'constant': 1, 'livery': 2, 'tone': 2, 'out': 5, 'wood': 2, '‘if': 1, 'his': 5, 'be': 2, 'round': 1, 'rate': 1, 'up': 3, 'behind': 1, 'noticed': 1, 'got': 1, 'loudly': 1, 'to': 15, 'from': 2, 'frog': 1, 'in': 7, 'footmen': 1, 'him': 3, 'most': 1, 'livery:': 1, 'considered': 1, 'crept': 1, 'under': 1, 'questions—How': 1, 'such': 1, 'time': 1, 'on': 4, 'nearly': 2, 'one': 2, 'together': 1, 'nose': 1, 'An': 2, 'am': 2, 'low': 1, 'I': 3, 'secondly': 1, 'letter': 1, 'himself': 1, 'arm': 1, 'straight': 1, 'both': 2, 'their': 3, 'wondering': 1, 'then': 1, 'much': 1, 'can’t': 1, 'crash': 1, '‘For': 1, 'remarked': 1, 'noise': 2, 'other': 2, 'then’': 1, 'into': 3, 'over': 2, 'minute': 1, 'by': 3, 'side': 1, 'she': 6, 'making': 1, 'otherwise': 1, 'hearing': 1, 'in’': 2, 'eyes': 2, 'For': 2, 'Alice': 5, 'every': 1, 'it’': 1, '‘But': 1, 'large': 3, 'head': 1, 'extraordinary': 1, 'top': 1, 'same': 2, 'house': 2, 'croquet’': 2, 'been': 1, 'powdered': 1, 'bowed': 1, 'decidedly': 1, 'without': 1, 'broken': 1, 'opened': 2, 'fish—and': 1, 'felt': 1, 'footman': 3, 'hair': 1, 'I’m': 1, 'of': 9, '‘There’s': 1, 'FishFootman': 2, 'because': 3, 'tomorrow—’': 1, 'plate': 1, 'perhaps': 1, 'were': 1, 'next': 2, 'began': 1, 'words': 1, 'about': 1, 'sitting': 1, 'and': 16, 'sneezing': 1, 'some': 1, 'And': 1, 'let': 1, 'what': 2, 'running': 1, 'face': 2, 'came': 2, 'very': 2, 'broke': 1, 'could': 2, 'another': 1, 'aloud': 1, 'hear': 1, 'Footman’s': 1, 'we': 1, 'trees': 1, 'for': 3, 'suddenly': 1, 'kettle': 1, 'stood': 1, 'staring': 1, '‘I': 1, 'sort': 1, 'us': 1, 'At': 1, 'knock': 1, '‘till': 1, 'sit': 1, 'might': 3, 'He': 1, 'was': 8, 'stupidly': 1, 'rapped': 1, 'looking': 2, 'instance': 1, 'just': 1, 'as': 4, 'saying': 1, 'curls': 1, 'peeped': 1, 'Footman': 3, 'play': 2, 'you’': 1, 'knocked': 1, 'know’': 1, 'against': 1, 'went': 2, 'her': 2, 'handed': 1, 'if': 2, 'it': 2, 'moment': 1, 'are': 2, 'two': 2, 'Then': 1, 'had': 4, 'Duchess': 2, 'head:': 1, 'timidly': 1, 'reasons': 1}\n"
     ]
    }
   ],
   "source": [
    "paragraph_text = '''\n",
    "For a minute or two she stood looking at the house, and wondering what to do next, when suddenly a footman in livery came running out of the wood—(she considered him to be a footman because he was in livery: otherwise, judging by his face only, she would have called him a fish)—and rapped loudly at the door with his knuckles. It was opened by another footman in livery, with a round face, and large eyes like a frog; and both footmen, Alice noticed, had powdered hair that curled all over their heads. She felt very curious to know what it was all about, and crept a little way out of the wood to listen.\n",
    "The Fish-Footman began by producing from under his arm a great letter, nearly as large as himself, and this he handed over to the other, saying, in a solemn tone, ‘For the Duchess. An invitation from the Queen to play croquet.’ The Frog-Footman repeated, in the same solemn tone, only changing the order of the words a little, ‘From the Queen. An invitation for the Duchess to play croquet.’\n",
    "Then they both bowed low, and their curls got entangled together.\n",
    "Alice laughed so much at this, that she had to run back into the wood for fear of their hearing her; and when she next peeped out the Fish-Footman was gone, and the other was sitting on the ground near the door, staring stupidly up into the sky.\n",
    "Alice went timidly up to the door, and knocked.\n",
    "‘There’s no sort of use in knocking,’ said the Footman, ‘and that for two reasons. First, because I’m on the same side of the door as you are; secondly, because they’re making such a noise inside, no one could possibly hear you.’ And certainly there was a most extraordinary noise going on within—a constant howling and sneezing, and every now and then a great crash, as if a dish or kettle had been broken to pieces.\n",
    "‘Please, then,’ said Alice, ‘how am I to get in?’\n",
    "‘There might be some sense in your knocking,’ the Footman went on without attending to her, ‘if we had the door between us. For instance, if you were inside, you might knock, and I could let you out, you know.’ He was looking up into the sky all the time he was speaking, and this Alice thought decidedly uncivil. ‘But perhaps he can’t help it,’ she said to herself; ‘his eyes are so very nearly at the top of his head. But at any rate he might answer questions.—How am I to get in?’ she repeated, aloud.\n",
    "‘I shall sit here,’ the Footman remarked, ‘till tomorrow—’\n",
    "At this moment the door of the house opened, and a large plate came skimming out, straight at the Footman’s head: it just grazed his nose, and broke to pieces against one of the trees behind him.'''\n",
    "\n",
    "no_punc = paragraph_text.translate({ord(i):None for i in ';!\\'@()?-,#$.'})\n",
    "#print(no_punc)\n",
    "new_text = no_punc.split()\n",
    "new_text = counts(new_text)\n",
    "\n",
    "print(new_text)\n",
    "\n"
   ]
  },
  {
   "cell_type": "markdown",
   "metadata": {},
   "source": [
    "## 4. Read in a file and write each line from the file to a new file Title-ized\n",
    "\n",
    "`This is the first line` ->  `This Is The First Line`\n",
    "\n",
    "Hint: There's a function to do this"
   ]
  },
  {
   "cell_type": "code",
   "execution_count": 69,
   "metadata": {
    "collapsed": false
   },
   "outputs": [
    {
     "name": "stdout",
     "output_type": "stream",
     "text": [
      "﻿This Is The First Line \n",
      "\n",
      "This Is The Second Line \n",
      "\n",
      "This Is The Third Line \n",
      "\n",
      "This Is The Fourth Line \n",
      "\n",
      "This Is The Fifth Line \n",
      "\n",
      "\n",
      "\n"
     ]
    }
   ],
   "source": [
    "with open(\"/Users/Taylor/Desktop/testfile.txt\") as file:\n",
    "    for line in file:\n",
    "        print(line.title())"
   ]
  },
  {
   "cell_type": "markdown",
   "metadata": {},
   "source": [
    "# Numpy"
   ]
  },
  {
   "cell_type": "markdown",
   "metadata": {},
   "source": [
    "## 1. Given a list, find the average using a numpy function. "
   ]
  },
  {
   "cell_type": "code",
   "execution_count": 70,
   "metadata": {
    "collapsed": false
   },
   "outputs": [
    {
     "data": {
      "text/plain": [
       "3.375"
      ]
     },
     "execution_count": 70,
     "metadata": {},
     "output_type": "execute_result"
    }
   ],
   "source": [
    "simple_list = [1,2,1,4,3,2,5,9]\n",
    "np.mean(simple_list)\n",
    "\n"
   ]
  },
  {
   "cell_type": "markdown",
   "metadata": {},
   "source": [
    "## 2. Given two lists of Heights and Weights of individual, calculate the BMI of those individuals, without writing a `for-loop`"
   ]
  },
  {
   "cell_type": "code",
   "execution_count": 112,
   "metadata": {
    "collapsed": false
   },
   "outputs": [
    {
     "data": {
      "text/plain": [
       "array([ 0.50574713,  0.47976879,  0.53179191,  0.42285714,  0.4502924 ])"
      ]
     },
     "execution_count": 112,
     "metadata": {},
     "output_type": "execute_result"
    }
   ],
   "source": [
    "heights = np.array([174, 173, 173, 175, 171])\n",
    "weights = np.array([88, 83, 92, 74, 77])\n",
    "\n",
    "bmi = weights/heights\n",
    "bmi\n"
   ]
  },
  {
   "cell_type": "markdown",
   "metadata": {},
   "source": [
    "## 3. Create an array of length 20 filled with random values (between 0 to 1) "
   ]
  },
  {
   "cell_type": "code",
   "execution_count": 78,
   "metadata": {
    "collapsed": false
   },
   "outputs": [
    {
     "data": {
      "text/plain": [
       "array([ 0.42232995,  0.73904315,  0.48438551,  0.54980903,  0.52778256,\n",
       "        0.70640533,  0.96248207,  0.03438053,  0.6536583 ,  0.29986211,\n",
       "        0.30631265,  0.51635489,  0.94017132,  0.57418748,  0.89165334,\n",
       "        0.39026611,  0.69118186,  0.29596348,  0.92038502,  0.94166327])"
      ]
     },
     "execution_count": 78,
     "metadata": {},
     "output_type": "execute_result"
    }
   ],
   "source": [
    "np.random.rand(20)"
   ]
  },
  {
   "cell_type": "markdown",
   "metadata": {},
   "source": [
    "## Bonus. 1. Create an array with a large (>1000) length filled with random numbers from different distributions (normal, uniform, etc.). 2. Then, plot a histogram of these values. "
   ]
  },
  {
   "cell_type": "code",
   "execution_count": 126,
   "metadata": {
    "collapsed": true
   },
   "outputs": [],
   "source": [
    "large_array = np.random.rand(1001)"
   ]
  },
  {
   "cell_type": "markdown",
   "metadata": {},
   "source": [
    "# Pandas"
   ]
  },
  {
   "cell_type": "markdown",
   "metadata": {},
   "source": [
    "## 1. Read in a CSV () and display all the columns and their respective data types "
   ]
  },
  {
   "cell_type": "code",
   "execution_count": 113,
   "metadata": {
    "collapsed": false
   },
   "outputs": [
    {
     "data": {
      "text/plain": [
       "Name      object\n",
       "Weight     int64\n",
       "Height     int64\n",
       "Sex       object\n",
       "dtype: object"
      ]
     },
     "execution_count": 113,
     "metadata": {},
     "output_type": "execute_result"
    }
   ],
   "source": [
    "data = pd.read_csv(\"/Users/Taylor/Desktop/hwk2.csv\")\n",
    "data.dtypes\n"
   ]
  },
  {
   "cell_type": "markdown",
   "metadata": {},
   "source": [
    "## 2. Find the average weight "
   ]
  },
  {
   "cell_type": "code",
   "execution_count": 88,
   "metadata": {
    "collapsed": false
   },
   "outputs": [
    {
     "data": {
      "text/plain": [
       "150.7"
      ]
     },
     "execution_count": 88,
     "metadata": {},
     "output_type": "execute_result"
    }
   ],
   "source": [
    "data['Weight'].mean()"
   ]
  },
  {
   "cell_type": "markdown",
   "metadata": {},
   "source": [
    "## 3. Find the Value Counts on column `sex` "
   ]
  },
  {
   "cell_type": "code",
   "execution_count": 125,
   "metadata": {
    "collapsed": false
   },
   "outputs": [
    {
     "data": {
      "text/plain": [
       "Female    6\n",
       "Male      4\n",
       "Name: Sex, dtype: int64"
      ]
     },
     "execution_count": 125,
     "metadata": {},
     "output_type": "execute_result"
    }
   ],
   "source": [
    "data['Sex'].value_counts()"
   ]
  },
  {
   "cell_type": "markdown",
   "metadata": {},
   "source": [
    "## 4. Plot Height vs. Weight "
   ]
  },
  {
   "cell_type": "code",
   "execution_count": 156,
   "metadata": {
    "collapsed": false
   },
   "outputs": [
    {
     "data": {
      "text/plain": [
       "<matplotlib.axes._subplots.AxesSubplot at 0x11917a8d0>"
      ]
     },
     "execution_count": 156,
     "metadata": {},
     "output_type": "execute_result"
    },
    {
     "data": {
      "image/png": "[encoded data removed]",
      "text/plain": [
       "<matplotlib.figure.Figure at 0x118804438>"
      ]
     },
     "metadata": {},
     "output_type": "display_data"
    }
   ],
   "source": [
    "data.plot(y='Height',x='Weight')\n"
   ]
  },
  {
   "cell_type": "markdown",
   "metadata": {},
   "source": [
    "## 5. Calculate BMI and save as a new column"
   ]
  },
  {
   "cell_type": "code",
   "execution_count": 129,
   "metadata": {
    "collapsed": false
   },
   "outputs": [
    {
     "data": {
      "text/html": [
       "<div>\n",
       "<table border=\"1\" class=\"dataframe\">\n",
       "  <thead>\n",
       "    <tr style=\"text-align: right;\">\n",
       "      <th></th>\n",
       "      <th>Name</th>\n",
       "      <th>Weight</th>\n",
       "      <th>Height</th>\n",
       "      <th>Sex</th>\n",
       "      <th>KiloWeight</th>\n",
       "      <th>CentHeight</th>\n",
       "      <th>BMI</th>\n",
       "    </tr>\n",
       "  </thead>\n",
       "  <tbody>\n",
       "    <tr>\n",
       "      <th>0</th>\n",
       "      <td>Devin</td>\n",
       "      <td>167</td>\n",
       "      <td>73</td>\n",
       "      <td>Male</td>\n",
       "      <td>75.15</td>\n",
       "      <td>3.330625</td>\n",
       "      <td>22.563333</td>\n",
       "    </tr>\n",
       "    <tr>\n",
       "      <th>1</th>\n",
       "      <td>Taylor</td>\n",
       "      <td>135</td>\n",
       "      <td>68</td>\n",
       "      <td>Female</td>\n",
       "      <td>60.75</td>\n",
       "      <td>2.890000</td>\n",
       "      <td>21.020761</td>\n",
       "    </tr>\n",
       "    <tr>\n",
       "      <th>2</th>\n",
       "      <td>Olive</td>\n",
       "      <td>150</td>\n",
       "      <td>65</td>\n",
       "      <td>Female</td>\n",
       "      <td>67.50</td>\n",
       "      <td>2.640625</td>\n",
       "      <td>25.562130</td>\n",
       "    </tr>\n",
       "    <tr>\n",
       "      <th>3</th>\n",
       "      <td>Morgan</td>\n",
       "      <td>140</td>\n",
       "      <td>63</td>\n",
       "      <td>Male</td>\n",
       "      <td>63.00</td>\n",
       "      <td>2.480625</td>\n",
       "      <td>25.396825</td>\n",
       "    </tr>\n",
       "    <tr>\n",
       "      <th>4</th>\n",
       "      <td>Ashton</td>\n",
       "      <td>200</td>\n",
       "      <td>64</td>\n",
       "      <td>Male</td>\n",
       "      <td>90.00</td>\n",
       "      <td>2.560000</td>\n",
       "      <td>35.156250</td>\n",
       "    </tr>\n",
       "  </tbody>\n",
       "</table>\n",
       "</div>"
      ],
      "text/plain": [
       "     Name  Weight  Height     Sex  KiloWeight  CentHeight        BMI\n",
       "0   Devin     167      73    Male       75.15    3.330625  22.563333\n",
       "1  Taylor     135      68  Female       60.75    2.890000  21.020761\n",
       "2   Olive     150      65  Female       67.50    2.640625  25.562130\n",
       "3  Morgan     140      63    Male       63.00    2.480625  25.396825\n",
       "4  Ashton     200      64    Male       90.00    2.560000  35.156250"
      ]
     },
     "execution_count": 129,
     "metadata": {},
     "output_type": "execute_result"
    }
   ],
   "source": [
    "data['KiloWeight']=data['Weight']*0.45\n",
    "data['CentHeight']=(data['Height']*0.025)**2\n",
    "data['BMI']=data['KiloWeight']/data['CentHeight']\n",
    "data.head()"
   ]
  },
  {
   "cell_type": "markdown",
   "metadata": {},
   "source": [
    "## 6. Save sheet as a new CSV file `hw_dataB.csv`"
   ]
  },
  {
   "cell_type": "code",
   "execution_count": 166,
   "metadata": {
    "collapsed": false
   },
   "outputs": [
    {
     "data": {
      "text/html": [
       "<div>\n",
       "<table border=\"1\" class=\"dataframe\">\n",
       "  <thead>\n",
       "    <tr style=\"text-align: right;\">\n",
       "      <th></th>\n",
       "      <th>Name</th>\n",
       "      <th>Weight</th>\n",
       "      <th>Height</th>\n",
       "      <th>Sex</th>\n",
       "      <th>KiloWeight</th>\n",
       "      <th>CentHeight</th>\n",
       "      <th>BMI</th>\n",
       "    </tr>\n",
       "  </thead>\n",
       "  <tbody>\n",
       "    <tr>\n",
       "      <th>0</th>\n",
       "      <td>Devin</td>\n",
       "      <td>167</td>\n",
       "      <td>73</td>\n",
       "      <td>Male</td>\n",
       "      <td>75.15</td>\n",
       "      <td>3.330625</td>\n",
       "      <td>22.563333</td>\n",
       "    </tr>\n",
       "    <tr>\n",
       "      <th>1</th>\n",
       "      <td>Taylor</td>\n",
       "      <td>135</td>\n",
       "      <td>68</td>\n",
       "      <td>Female</td>\n",
       "      <td>60.75</td>\n",
       "      <td>2.890000</td>\n",
       "      <td>21.020761</td>\n",
       "    </tr>\n",
       "    <tr>\n",
       "      <th>2</th>\n",
       "      <td>Olive</td>\n",
       "      <td>150</td>\n",
       "      <td>65</td>\n",
       "      <td>Female</td>\n",
       "      <td>67.50</td>\n",
       "      <td>2.640625</td>\n",
       "      <td>25.562130</td>\n",
       "    </tr>\n",
       "    <tr>\n",
       "      <th>3</th>\n",
       "      <td>Morgan</td>\n",
       "      <td>140</td>\n",
       "      <td>63</td>\n",
       "      <td>Male</td>\n",
       "      <td>63.00</td>\n",
       "      <td>2.480625</td>\n",
       "      <td>25.396825</td>\n",
       "    </tr>\n",
       "    <tr>\n",
       "      <th>4</th>\n",
       "      <td>Ashton</td>\n",
       "      <td>200</td>\n",
       "      <td>64</td>\n",
       "      <td>Male</td>\n",
       "      <td>90.00</td>\n",
       "      <td>2.560000</td>\n",
       "      <td>35.156250</td>\n",
       "    </tr>\n",
       "  </tbody>\n",
       "</table>\n",
       "</div>"
      ],
      "text/plain": [
       "     Name  Weight  Height     Sex  KiloWeight  CentHeight        BMI\n",
       "0   Devin     167      73    Male       75.15    3.330625  22.563333\n",
       "1  Taylor     135      68  Female       60.75    2.890000  21.020761\n",
       "2   Olive     150      65  Female       67.50    2.640625  25.562130\n",
       "3  Morgan     140      63    Male       63.00    2.480625  25.396825\n",
       "4  Ashton     200      64    Male       90.00    2.560000  35.156250"
      ]
     },
     "execution_count": 166,
     "metadata": {},
     "output_type": "execute_result"
    }
   ],
   "source": [
    "data.to_csv(\"hw_dataB.csv\")"
   ]
  },
  {
   "cell_type": "markdown",
   "metadata": {},
   "source": [
    "## Run the following"
   ]
  },
  {
   "cell_type": "code",
   "execution_count": 167,
   "metadata": {
    "collapsed": false
   },
   "outputs": [
    {
     "name": "stdout",
     "output_type": "stream",
     "text": [
      ",Name,Weight,Height,Sex,KiloWeight,CentHeight,BMI\r\n",
      "0,Devin,167,73,Male,75.15,3.330625000000001,22.563332707825104\r\n",
      "1,Taylor,135,68,Female,60.75,2.8900000000000006,21.020761245674738\r\n",
      "2,Olive,150,65,Female,67.5,2.640625,25.562130177514792\r\n",
      "3,Morgan,140,63,Male,63.0,2.4806250000000007,25.39682539682539\r\n",
      "4,Ashton,200,64,Male,90.0,2.5600000000000005,35.15624999999999\r\n",
      "5,Sara,120,69,Female,54.0,2.9756250000000004,18.147448015122873\r\n",
      "6,Jane,215,62,Female,96.75,2.4025000000000003,40.270551508844946\r\n",
      "7,Lisa,115,67,Female,51.75,2.805625,18.445087992871464\r\n",
      "8,Bobby,120,68,Male,54.0,2.8900000000000006,18.685121107266433\r\n",
      "9,Allison,145,66,Female,65.25,2.7225000000000006,23.966942148760324\r\n"
     ]
    }
   ],
   "source": [
    "!cat hw_dataB.csv"
   ]
  },
  {
   "cell_type": "code",
   "execution_count": null,
   "metadata": {
    "collapsed": true
   },
   "outputs": [],
   "source": []
  }
 ],
 "metadata": {
  "kernelspec": {
   "display_name": "Python 3",
   "language": "python",
   "name": "python3"
  },
  "language_info": {
   "codemirror_mode": {
    "name": "ipython",
    "version": 3
   },
   "file_extension": ".py",
   "mimetype": "text/x-python",
   "name": "python",
   "nbconvert_exporter": "python",
   "pygments_lexer": "ipython3",
   "version": "3.5.1"
  }
 },
 "nbformat": 4,
 "nbformat_minor": 1
}
